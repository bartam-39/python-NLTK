{
 "cells": [
  {
   "attachments": {},
   "cell_type": "markdown",
   "metadata": {},
   "source": [
    "# Python Natural Language Toolkit (NLTK) Notebook\n",
    "We first need some import.\n",
    "Some of these imports will be commented, because are not always required, like the downloads."
   ]
  },
  {
   "cell_type": "code",
   "execution_count": 1,
   "metadata": {},
   "outputs": [],
   "source": [
    "import nltk\n",
    "\n",
    "# nltk.download(\"stopwords\")\n",
    "# nltk.download(\"punkt\")\n",
    "# nltk.download(\"maxent_ne_chunker\")\n",
    "# nltk.download(\"words\")\n",
    "# nltk.download(\"book\")\n",
    "\n",
    "from nltk.tokenize import sent_tokenize, word_tokenize\n",
    "from nltk.corpus import stopwords\n",
    "from nltk.stem.snowball import SnowballStemmer\n",
    "from nltk.stem import WordNetLemmatizer\n",
    "from nltk import FreqDist"
   ]
  },
  {
   "cell_type": "code",
   "execution_count": 2,
   "metadata": {},
   "outputs": [],
   "source": [
    "\n",
    "# This is our test string, it will be useful to test the algorithms.\n",
    "# All the algorithms will be tested on this string.\n",
    "example_string = \"\"\"All we have to decide is what to do with the time that is given to us.\n",
    "There are other forces at work in this world, Frodo, besides the will of evil.\"\"\""
   ]
  },
  {
   "attachments": {},
   "cell_type": "markdown",
   "metadata": {},
   "source": [
    "## Tokenization\n",
    "Tokenization is the process of breaking a stream of text up into words, phrases, symbols, or other meaningful elements called tokens."
   ]
  },
  {
   "cell_type": "code",
   "execution_count": 3,
   "metadata": {},
   "outputs": [],
   "source": [
    "# Stopwords are the words that are filtered out before or after processing of natural language data.\n",
    "stop_words = set(stopwords.words(\"english\"))\n",
    "\n",
    "# Tokenize by sentences\n",
    "sentences = sent_tokenize(example_string)\n",
    "\n",
    "# Tokenize by words\n",
    "words = word_tokenize(example_string)\n",
    "\n",
    "# Filtering based on the english stopwords.\n",
    "# This filtering, is actually remove I and Not words, those are important sometimes, so keep that in mind.\n",
    "filtered_words = [word for word in words if word.casefold() not in stop_words]\n",
    "\n",
    "# print(\"Filtered\")\n",
    "# print(filtered_words)"
   ]
  },
  {
   "attachments": {},
   "cell_type": "markdown",
   "metadata": {},
   "source": [
    "## Stemming\n",
    "Stemming is the process of reducing inflected (or sometimes derived) words to their stem, base or root form — generally a written word form."
   ]
  },
  {
   "cell_type": "code",
   "execution_count": 4,
   "metadata": {},
   "outputs": [],
   "source": [
    "stemmer = SnowballStemmer(\"english\")\n",
    "stemmed_words = [stemmer.stem(filtered_word) for filtered_word in filtered_words]\n",
    "\n",
    "# print(\"\\nStemmed words\")\n",
    "# print(stemmed_words)"
   ]
  },
  {
   "attachments": {},
   "cell_type": "markdown",
   "metadata": {},
   "source": [
    "## Tagging Parts of Speech\n",
    "Part-of-speech tagging (POS tagging or PoS tagging or POST), also called grammatical tagging or word-category disambiguation, is the process of marking up a word in a text (corpus) as corresponding to a particular part of speech, based on both its definition and its context — i.e., its relationship with adjacent and related words in a phrase, sentence, or paragraph."
   ]
  },
  {
   "cell_type": "code",
   "execution_count": 5,
   "metadata": {},
   "outputs": [],
   "source": [
    "# This is an helper function to get more information about the tags.\n",
    "# nltk.help.upenn_tagset()\n",
    "pos_tag = nltk.pos_tag(stemmed_words)\n",
    "\n",
    "# print(\"\\nParts of Speech array\")\n",
    "# print(pos_tag)"
   ]
  },
  {
   "attachments": {},
   "cell_type": "markdown",
   "metadata": {},
   "source": [
    "## Lemmatizing\n",
    "Lemmatization is the process of grouping together the inflected forms of a word so they can be analysed as a single item."
   ]
  },
  {
   "cell_type": "code",
   "execution_count": 6,
   "metadata": {},
   "outputs": [],
   "source": [
    "lemmatizer = WordNetLemmatizer()\n",
    "lemmatized_words = [lemmatizer.lemmatize(word) for word in filtered_words]\n",
    "\n",
    "# print(\"\\nLemmatized words\")\n",
    "# print(lemmatized_words)\n",
    "\n",
    "# print(\"\\nLemmatized the word worst, example case\")\n",
    "# # treated as noun by adding the parameter, default behavior\n",
    "# print(lemmatizer.lemmatize(\"worst\"))\n",
    "# # treated as an adjective by adding the parameter\n",
    "# print(lemmatizer.lemmatize(\"worst\", pos=\"a\"))"
   ]
  },
  {
   "attachments": {},
   "cell_type": "markdown",
   "metadata": {},
   "source": [
    "## Chunking\n",
    "Chunking is the process of extracting phrases from unstructured text. This is a complementary process for the tokenization. You basically chunks by phrases."
   ]
  },
  {
   "cell_type": "code",
   "execution_count": 7,
   "metadata": {},
   "outputs": [],
   "source": [
    "\n",
    "# We start by tokenizing the string and then tagging the words with parts of speech.\n",
    "words_in_lotr_quote = word_tokenize(example_string)\n",
    "example_pos_tags = nltk.pos_tag(words_in_lotr_quote)\n",
    "\n",
    "# print(\"\\nlotr_pos_tags\")\n",
    "# print(lotr_pos_tags)\n",
    "\n",
    "# Now, we create a chunk grammar, which is a combination of rules on how sentences should be chunked.\n",
    "# It often uses regular expressions, or regexes.\n",
    "\n",
    "# The following grammar will:\n",
    "# Start with an optional (?) determiner ('DT')\n",
    "# Can have any number (*) of adjectives (JJ)\n",
    "# End with a noun (<NN>)\n",
    "chunk_grammar = \"NP: {<DT>?<JJ>*<NN>}\"\n",
    "\n",
    "chunk_parser = nltk.RegexpParser(chunk_grammar)\n",
    "tree = chunk_parser.parse(example_pos_tags)\n",
    "# tree.draw()"
   ]
  },
  {
   "attachments": {},
   "cell_type": "markdown",
   "metadata": {},
   "source": [
    "## Chinking\n",
    "Chinking is the process of removing a sequence of tokens from a chunk."
   ]
  },
  {
   "cell_type": "code",
   "execution_count": 8,
   "metadata": {},
   "outputs": [],
   "source": [
    "# The following grammar will:\n",
    "# {<.*>+} patterns you want to include in you chunks, <.*>+ means any token\n",
    "# }<JJ>{ patterns you want to exclude in you chunks, <JJ> means adjectives\n",
    "chink_grammar = \"\"\"\n",
    "Chunk: {<.*>+}\n",
    "}<JJ>{\"\"\"\n",
    "\n",
    "chunk_chink_parser = nltk.RegexpParser(chink_grammar)\n",
    "tree = chunk_chink_parser.parse(example_pos_tags)\n",
    "# tree.draw()"
   ]
  },
  {
   "attachments": {},
   "cell_type": "markdown",
   "metadata": {},
   "source": [
    "## Using Named Entity Recognition\n",
    "Named entities are noun phrases that refer to specific locations, people, organizations, and so on"
   ]
  },
  {
   "cell_type": "code",
   "execution_count": 9,
   "metadata": {},
   "outputs": [],
   "source": [
    "tree = nltk.ne_chunk(example_pos_tags)\n",
    "# tree.draw()\n",
    "\n",
    "def extract_ne(quote):\n",
    "    words = word_tokenize(quote, language=\"english\")\n",
    "    tags = nltk.pos_tag(words)\n",
    "    tree = nltk.ne_chunk(tags, binary=True)\n",
    "    return set(\n",
    "        \" \".join(i[0] for i in t)\n",
    "        for t in tree\n",
    "        if hasattr(t, \"label\") and t.label() == \"NE\"\n",
    "    )\n",
    "\n",
    "\n",
    "extracted_entities = extract_ne(example_string)\n",
    "\n",
    "# print(extracted_entities)"
   ]
  },
  {
   "attachments": {},
   "cell_type": "markdown",
   "metadata": {},
   "source": [
    "## Using a Concordance\n",
    "A concordance is a listing of words in order of appearance in a text, with line numbers."
   ]
  },
  {
   "cell_type": "code",
   "execution_count": 10,
   "metadata": {},
   "outputs": [
    {
     "name": "stdout",
     "output_type": "stream",
     "text": [
      "*** Introductory Examples for the NLTK Book ***\n",
      "Loading text1, ..., text9 and sent1, ..., sent9\n",
      "Type the name of the text or sentence to view it.\n",
      "Type: 'texts()' or 'sents()' to list the materials.\n",
      "text1: Moby Dick by Herman Melville 1851\n",
      "text2: Sense and Sensibility by Jane Austen 1811\n",
      "text3: The Book of Genesis\n",
      "text4: Inaugural Address Corpus\n",
      "text5: Chat Corpus\n",
      "text6: Monty Python and the Holy Grail\n",
      "text7: Wall Street Journal\n",
      "text8: Personals Corpus\n",
      "text9: The Man Who Was Thursday by G . K . Chesterton 1908\n"
     ]
    }
   ],
   "source": [
    "from nltk.book import *\n",
    "\n",
    "# text8.concordance(\"man\")\n",
    "# print(\"\")\n",
    "# text8.concordance(\"woman\")"
   ]
  },
  {
   "attachments": {},
   "cell_type": "markdown",
   "metadata": {},
   "source": [
    "## Dispersion Plot\n",
    "A dispersion plot is a graph showing the location of a word in the text."
   ]
  },
  {
   "cell_type": "code",
   "execution_count": 11,
   "metadata": {},
   "outputs": [
    {
     "data": {
      "image/png": "[encoded data removed]",
      "text/plain": [
       "<Figure size 640x480 with 1 Axes>"
      ]
     },
     "metadata": {},
     "output_type": "display_data"
    }
   ],
   "source": [
    "# text8.dispersion_plot(\n",
    "#     [\"woman\", \"lady\", \"girl\", \"gal\", \"man\", \"gentleman\", \"boy\", \"guy\"]\n",
    "# )\n",
    "text2.dispersion_plot([\"Allenham\", \"Whitwell\", \"Cleveland\", \"Combe\"])"
   ]
  },
  {
   "attachments": {},
   "cell_type": "markdown",
   "metadata": {},
   "source": [
    "## Frequency Distribution\n",
    "A frequency distribution counts the number of times each outcome of an experiment occurs."
   ]
  },
  {
   "cell_type": "code",
   "execution_count": 12,
   "metadata": {},
   "outputs": [
    {
     "name": "stdout",
     "output_type": "stream",
     "text": [
      "[(',', 18713), ('the', 13721), ('.', 6862), ('of', 6536), ('and', 6024), ('a', 4569), ('to', 4542), (';', 4072), ('in', 3916), ('that', 2982), (\"'\", 2684), ('-', 2552), ('his', 2459), ('it', 2209), ('I', 2124), ('s', 1739), ('is', 1695), ('he', 1661), ('with', 1659), ('was', 1632)]\n"
     ]
    },
    {
     "data": {
      "image/png": "[encoded data removed]",
      "text/plain": [
       "<Figure size 640x480 with 1 Axes>"
      ]
     },
     "metadata": {},
     "output_type": "display_data"
    },
    {
     "data": {
      "text/plain": [
       "<Axes: xlabel='Samples', ylabel='Cumulative Counts'>"
      ]
     },
     "execution_count": 12,
     "metadata": {},
     "output_type": "execute_result"
    }
   ],
   "source": [
    "text_case = text1\n",
    "frequency_distribution = FreqDist(text_case)\n",
    "\n",
    "# This will print the 20 most common words in the text.\n",
    "print(frequency_distribution.most_common(20))\n",
    "\n",
    "# This create a list of all of the words in text8 that aren’t stop\n",
    "meaningful_words = [\n",
    "    word for word in text_case if word.casefold() not in stop_words\n",
    "]\n",
    "frequency_distribution = FreqDist(meaningful_words)\n",
    "# print(frequency_distribution.most_common(20))\n",
    "frequency_distribution.plot(20, cumulative=True)"
   ]
  },
  {
   "attachments": {},
   "cell_type": "markdown",
   "metadata": {},
   "source": [
    "## Collocations\n",
    "Collocations are expressions of multiple words which commonly co-occur."
   ]
  },
  {
   "cell_type": "code",
   "execution_count": 13,
   "metadata": {},
   "outputs": [
    {
     "name": "stdout",
     "output_type": "stream",
     "text": [
      "would like; medium build; social drinker; quiet nights; non smoker;\n",
      "long term; age open; Would like; easy going; financially secure; fun\n",
      "times; similar interests; Age open; weekends away; poss rship; well\n",
      "presented; never married; single mum; permanent relationship; slim\n",
      "build\n",
      "medium build; social drinker; non smoker; quiet night; long term;\n",
      "would like; age open; easy going; financially secure; Would like; fun\n",
      "time; similar interest; Age open; weekend away; well presented; never\n",
      "married; single mum; permanent relationship; year old; slim build\n"
     ]
    }
   ],
   "source": [
    "text8.collocations()\n",
    "lemmatized_words = [lemmatizer.lemmatize(word) for word in text8]\n",
    "new_text = nltk.Text(lemmatized_words)\n",
    "new_text.collocations()"
   ]
  }
 ],
 "metadata": {
  "kernelspec": {
   "display_name": "python-nltk",
   "language": "python",
   "name": "python3"
  },
  "language_info": {
   "codemirror_mode": {
    "name": "ipython",
    "version": 3
   },
   "file_extension": ".py",
   "mimetype": "text/x-python",
   "name": "python",
   "nbconvert_exporter": "python",
   "pygments_lexer": "ipython3",
   "version": "3.11.0"
  },
  "orig_nbformat": 4
 },
 "nbformat": 4,
 "nbformat_minor": 2
}
